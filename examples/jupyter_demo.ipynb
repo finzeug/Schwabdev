{
 "cells": [
  {
   "cell_type": "code",
   "execution_count": 13,
   "id": "ba11982b-6de0-469a-a51f-aaa98b72d7ac",
   "metadata": {},
   "outputs": [],
   "source": [
    "import sys\n",
    "from pathlib import Path\n",
    "if not any(['dev/Schwabdev' in _ for _ in sys.path]):\n",
    "    sys.path.append(str(Path.home() / 'dev/Schwabdev'))\n",
    "\n",
    "import yaml\n",
    "\n",
    "\n",
    "path_config = Path.home() / '.config/findat.yml'\n",
    "\n",
    "with open(path_config, 'rt') as f:\n",
    "    config = yaml.safe_load(f)"
   ]
  },
  {
   "cell_type": "code",
   "execution_count": 14,
   "id": "initial_id",
   "metadata": {},
   "outputs": [],
   "source": [
    "#import packages\n",
    "import schwabdev\n",
    "import logging\n",
    "import dotenv\n",
    "import os"
   ]
  },
  {
   "cell_type": "code",
   "execution_count": 17,
   "id": "c3d7910c-d14a-4cd5-996b-b78c45bc8c08",
   "metadata": {},
   "outputs": [],
   "source": [
    "config.items()\n",
    "config['callback_url'] = 'https://127.0.0.1'"
   ]
  },
  {
   "cell_type": "code",
   "execution_count": 18,
   "id": "99702f6a92a22ca7",
   "metadata": {},
   "outputs": [
    {
     "name": "stderr",
     "output_type": "stream",
     "text": [
      "ERROR:Schwabdev.Tokens:[Errno 2] No such file or directory: 'tokens.json'\n",
      "WARNING:Schwabdev.Tokens:Token file does not exist or invalid formatting, creating \"tokens.json\"\n"
     ]
    },
    {
     "name": "stdout",
     "output_type": "stream",
     "text": [
      "[Schwabdev] Open to authenticate: https://api.schwabapi.com/v1/oauth/authorize?client_id=mzS6Z3baHMapGsx3gHnrCjL97tVnHVYo&redirect_uri=https://127.0.0.1\n",
      "\u001b[?1l\u001b>0;1H\u001b[2J\u001b[?47l\u001b8TPS connection to api.schwabapi.com\u001b[m\u001b[m                                                                    \u001b[28;29H\u001b[m\u001b[m                                  \u001b[2;1H                                                                                                                       \u001b[3;1H                                                                                                                       \u001b[4;1H                                                                                                                       \u001b[5;1H                                                                                                                       \u001b[6;1H                                                                                                                       \u001b[7;1H                                                                                                                       \u001b[8;1H                                                                                                                       \u001b[9;1H                                                                                                                       \u001b[10;1H                                                                                                                       \u001b[11;1H                                                                                                                       \u001b[12;1H                                                                                                                       \u001b[13;1H                                                                                                                       \u001b[14;1H                                                                                                                       \u001b[15;1H                                                                                                                       \u001b[16;1H                                                                                                                       \u001b[17;1H                                                                                                                       \u001b[18;1H                                                                                                                       \u001b[19;1H                                                                                                                       \u001b[20;1H                                                                                                                       \u001b[21;1H                                                                                                                       \u001b[22;1H                                                                                                                       \u001b[23;1H                                                                                                                       \u001b[24;1H                                                                                                                       \u001b[25;1H                                                                                                                       \u001b[26;1H                                                                                                                       \u001b[27;1H                                                                                                                       \u001b[28;1H                                                                                                                       \u001b[29;1H                                                                                                                       \u001b[30;1H                                                                                                                     \u001b[4h\u001b[37m\u001b[40m \u001b[4l\u001b[H\u001b[m\u001b[m\u001b[37m\u001b[40m\u001b[m\u001b[m\u001b[27B\u001b[33m\u001b[44m\u001b[1mGetting https://api.schwabapi.com/v1/oauth/authorize?client_id=mzS6Z3baHMapGsx3gHnrCjL97tVnHVYo&redirect_uri=https://1 \u001b[28;119H\u001b[m\u001b[m"
     ]
    },
    {
     "ename": "KeyboardInterrupt",
     "evalue": "Interrupted by user",
     "output_type": "error",
     "traceback": [
      "\u001b[0;31m---------------------------------------------------------------------------\u001b[0m",
      "\u001b[0;31mKeyboardInterrupt\u001b[0m                         Traceback (most recent call last)",
      "Cell \u001b[0;32mIn[18], line 6\u001b[0m\n\u001b[1;32m      4\u001b[0m \u001b[38;5;66;03m#load environment variables and make client\u001b[39;00m\n\u001b[1;32m      5\u001b[0m dotenv\u001b[38;5;241m.\u001b[39mload_dotenv()\n\u001b[0;32m----> 6\u001b[0m client \u001b[38;5;241m=\u001b[39m \u001b[43mschwabdev\u001b[49m\u001b[38;5;241;43m.\u001b[39;49m\u001b[43mClient\u001b[49m\u001b[43m(\u001b[49m\u001b[38;5;241;43m*\u001b[39;49m\u001b[38;5;241;43m*\u001b[39;49m\u001b[43m \u001b[49m\u001b[38;5;28;43mdict\u001b[39;49m\u001b[43m(\u001b[49m\u001b[43m[\u001b[49m\u001b[43m_\u001b[49m\u001b[43m \u001b[49m\u001b[38;5;28;43;01mfor\u001b[39;49;00m\u001b[43m \u001b[49m\u001b[43m_\u001b[49m\u001b[43m \u001b[49m\u001b[38;5;129;43;01min\u001b[39;49;00m\u001b[43m \u001b[49m\u001b[43mconfig\u001b[49m\u001b[38;5;241;43m.\u001b[39;49m\u001b[43mitems\u001b[49m\u001b[43m(\u001b[49m\u001b[43m)\u001b[49m\u001b[43m \u001b[49m\u001b[38;5;28;43;01mif\u001b[39;49;00m\u001b[43m \u001b[49m\u001b[43m_\u001b[49m\u001b[43m[\u001b[49m\u001b[38;5;241;43m0\u001b[39;49m\u001b[43m]\u001b[49m\u001b[43m \u001b[49m\u001b[38;5;129;43;01min\u001b[39;49;00m\u001b[43m \u001b[49m\u001b[43m[\u001b[49m\u001b[38;5;124;43m'\u001b[39;49m\u001b[38;5;124;43mapp_key\u001b[39;49m\u001b[38;5;124;43m'\u001b[39;49m\u001b[43m,\u001b[49m\u001b[43m \u001b[49m\u001b[38;5;124;43m'\u001b[39;49m\u001b[38;5;124;43mapp_secret\u001b[39;49m\u001b[38;5;124;43m'\u001b[39;49m\u001b[43m,\u001b[49m\u001b[43m \u001b[49m\u001b[38;5;124;43m'\u001b[39;49m\u001b[38;5;124;43mcallback_url\u001b[39;49m\u001b[38;5;124;43m'\u001b[39;49m\u001b[43m]\u001b[49m\u001b[43m]\u001b[49m\u001b[43m)\u001b[49m\u001b[43m)\u001b[49m\n",
      "File \u001b[0;32m~/dev/Schwabdev/schwabdev/client.py:39\u001b[0m, in \u001b[0;36mClient.__init__\u001b[0;34m(self, app_key, app_secret, callback_url, tokens_file, timeout, update_tokens_auto)\u001b[0m\n\u001b[1;32m     37\u001b[0m \u001b[38;5;28mself\u001b[39m\u001b[38;5;241m.\u001b[39mversion \u001b[38;5;241m=\u001b[39m \u001b[38;5;124m\"\u001b[39m\u001b[38;5;124mSchwabdev 2.4.4\u001b[39m\u001b[38;5;124m\"\u001b[39m                        \u001b[38;5;66;03m# version of the client\u001b[39;00m\n\u001b[1;32m     38\u001b[0m \u001b[38;5;28mself\u001b[39m\u001b[38;5;241m.\u001b[39mtimeout \u001b[38;5;241m=\u001b[39m timeout                                  \u001b[38;5;66;03m# timeout to use in requests\u001b[39;00m\n\u001b[0;32m---> 39\u001b[0m \u001b[38;5;28mself\u001b[39m\u001b[38;5;241m.\u001b[39mtokens \u001b[38;5;241m=\u001b[39m \u001b[43mTokens\u001b[49m\u001b[43m(\u001b[49m\u001b[38;5;28;43mself\u001b[39;49m\u001b[43m,\u001b[49m\u001b[43m \u001b[49m\u001b[43mapp_key\u001b[49m\u001b[43m,\u001b[49m\u001b[43m \u001b[49m\u001b[43mapp_secret\u001b[49m\u001b[43m,\u001b[49m\u001b[43m \u001b[49m\u001b[43mcallback_url\u001b[49m\u001b[43m,\u001b[49m\u001b[43m \u001b[49m\u001b[43mtokens_file\u001b[49m\u001b[43m,\u001b[49m\u001b[43m \u001b[49m\u001b[43mupdate_tokens_auto\u001b[49m\u001b[43m)\u001b[49m\n\u001b[1;32m     40\u001b[0m \u001b[38;5;28mself\u001b[39m\u001b[38;5;241m.\u001b[39mstream \u001b[38;5;241m=\u001b[39m Stream(\u001b[38;5;28mself\u001b[39m)                              \u001b[38;5;66;03m# init the streaming object\u001b[39;00m\n\u001b[1;32m     41\u001b[0m \u001b[38;5;28mself\u001b[39m\u001b[38;5;241m.\u001b[39m_logger \u001b[38;5;241m=\u001b[39m logging\u001b[38;5;241m.\u001b[39mgetLogger(\u001b[38;5;124m\"\u001b[39m\u001b[38;5;124mSchwabdev.Client\u001b[39m\u001b[38;5;124m\"\u001b[39m)    \u001b[38;5;66;03m# init the logger\u001b[39;00m\n",
      "File \u001b[0;32m~/dev/Schwabdev/schwabdev/tokens.py:82\u001b[0m, in \u001b[0;36mTokens.__init__\u001b[0;34m(self, client, app_key, app_secret, callback_url, tokens_file, update_tokens_auto)\u001b[0m\n\u001b[1;32m     80\u001b[0m     \u001b[38;5;66;03m# Tokens must be updated.\u001b[39;00m\n\u001b[1;32m     81\u001b[0m     \u001b[38;5;28;01mif\u001b[39;00m update_tokens_auto:\n\u001b[0;32m---> 82\u001b[0m         \u001b[38;5;28;43mself\u001b[39;49m\u001b[38;5;241;43m.\u001b[39;49m\u001b[43mupdate_refresh_token\u001b[49m\u001b[43m(\u001b[49m\u001b[43m)\u001b[49m\n\u001b[1;32m     84\u001b[0m \u001b[38;5;66;03m# Spawns a thread to check the access token and update if necessary\u001b[39;00m\n\u001b[1;32m     85\u001b[0m \u001b[38;5;28;01mif\u001b[39;00m update_tokens_auto:\n",
      "File \u001b[0;32m~/dev/Schwabdev/schwabdev/tokens.py:336\u001b[0m, in \u001b[0;36mTokens.update_refresh_token\u001b[0;34m(self)\u001b[0m\n\u001b[1;32m    334\u001b[0m     code \u001b[38;5;241m=\u001b[39m shared\u001b[38;5;241m.\u001b[39mcode\n\u001b[1;32m    335\u001b[0m \u001b[38;5;28;01melse\u001b[39;00m: \u001b[38;5;66;03m# if there is no port then the user must copy/paste the url\u001b[39;00m\n\u001b[0;32m--> 336\u001b[0m     response_url \u001b[38;5;241m=\u001b[39m \u001b[38;5;28;43minput\u001b[39;49m\u001b[43m(\u001b[49m\u001b[38;5;124;43m\"\u001b[39;49m\u001b[38;5;124;43m[Schwabdev] After authorizing, paste the address bar url here: \u001b[39;49m\u001b[38;5;124;43m\"\u001b[39;49m\u001b[43m)\u001b[49m\n\u001b[1;32m    337\u001b[0m     code \u001b[38;5;241m=\u001b[39m \u001b[38;5;124mf\u001b[39m\u001b[38;5;124m\"\u001b[39m\u001b[38;5;132;01m{\u001b[39;00mresponse_url[response_url\u001b[38;5;241m.\u001b[39mindex(\u001b[38;5;124m'\u001b[39m\u001b[38;5;124mcode=\u001b[39m\u001b[38;5;124m'\u001b[39m)\u001b[38;5;250m \u001b[39m\u001b[38;5;241m+\u001b[39m\u001b[38;5;250m \u001b[39m\u001b[38;5;241m5\u001b[39m:response_url\u001b[38;5;241m.\u001b[39mindex(\u001b[38;5;124m'\u001b[39m\u001b[38;5;124m%\u001b[39m\u001b[38;5;124m40\u001b[39m\u001b[38;5;124m'\u001b[39m)]\u001b[38;5;132;01m}\u001b[39;00m\u001b[38;5;124m@\u001b[39m\u001b[38;5;124m\"\u001b[39m\n\u001b[1;32m    339\u001b[0m \u001b[38;5;28;01mif\u001b[39;00m code \u001b[38;5;129;01mis\u001b[39;00m \u001b[38;5;129;01mnot\u001b[39;00m \u001b[38;5;28;01mNone\u001b[39;00m:\n",
      "File \u001b[0;32m~/miniforge3/envs/findatdev00/lib/python3.13/site-packages/ipykernel/kernelbase.py:1282\u001b[0m, in \u001b[0;36mKernel.raw_input\u001b[0;34m(self, prompt)\u001b[0m\n\u001b[1;32m   1280\u001b[0m     msg \u001b[38;5;241m=\u001b[39m \u001b[38;5;124m\"\u001b[39m\u001b[38;5;124mraw_input was called, but this frontend does not support input requests.\u001b[39m\u001b[38;5;124m\"\u001b[39m\n\u001b[1;32m   1281\u001b[0m     \u001b[38;5;28;01mraise\u001b[39;00m StdinNotImplementedError(msg)\n\u001b[0;32m-> 1282\u001b[0m \u001b[38;5;28;01mreturn\u001b[39;00m \u001b[38;5;28;43mself\u001b[39;49m\u001b[38;5;241;43m.\u001b[39;49m\u001b[43m_input_request\u001b[49m\u001b[43m(\u001b[49m\n\u001b[1;32m   1283\u001b[0m \u001b[43m    \u001b[49m\u001b[38;5;28;43mstr\u001b[39;49m\u001b[43m(\u001b[49m\u001b[43mprompt\u001b[49m\u001b[43m)\u001b[49m\u001b[43m,\u001b[49m\n\u001b[1;32m   1284\u001b[0m \u001b[43m    \u001b[49m\u001b[38;5;28;43mself\u001b[39;49m\u001b[38;5;241;43m.\u001b[39;49m\u001b[43m_parent_ident\u001b[49m\u001b[43m[\u001b[49m\u001b[38;5;124;43m\"\u001b[39;49m\u001b[38;5;124;43mshell\u001b[39;49m\u001b[38;5;124;43m\"\u001b[39;49m\u001b[43m]\u001b[49m\u001b[43m,\u001b[49m\n\u001b[1;32m   1285\u001b[0m \u001b[43m    \u001b[49m\u001b[38;5;28;43mself\u001b[39;49m\u001b[38;5;241;43m.\u001b[39;49m\u001b[43mget_parent\u001b[49m\u001b[43m(\u001b[49m\u001b[38;5;124;43m\"\u001b[39;49m\u001b[38;5;124;43mshell\u001b[39;49m\u001b[38;5;124;43m\"\u001b[39;49m\u001b[43m)\u001b[49m\u001b[43m,\u001b[49m\n\u001b[1;32m   1286\u001b[0m \u001b[43m    \u001b[49m\u001b[43mpassword\u001b[49m\u001b[38;5;241;43m=\u001b[39;49m\u001b[38;5;28;43;01mFalse\u001b[39;49;00m\u001b[43m,\u001b[49m\n\u001b[1;32m   1287\u001b[0m \u001b[43m\u001b[49m\u001b[43m)\u001b[49m\n",
      "File \u001b[0;32m~/miniforge3/envs/findatdev00/lib/python3.13/site-packages/ipykernel/kernelbase.py:1325\u001b[0m, in \u001b[0;36mKernel._input_request\u001b[0;34m(self, prompt, ident, parent, password)\u001b[0m\n\u001b[1;32m   1322\u001b[0m \u001b[38;5;28;01mexcept\u001b[39;00m \u001b[38;5;167;01mKeyboardInterrupt\u001b[39;00m:\n\u001b[1;32m   1323\u001b[0m     \u001b[38;5;66;03m# re-raise KeyboardInterrupt, to truncate traceback\u001b[39;00m\n\u001b[1;32m   1324\u001b[0m     msg \u001b[38;5;241m=\u001b[39m \u001b[38;5;124m\"\u001b[39m\u001b[38;5;124mInterrupted by user\u001b[39m\u001b[38;5;124m\"\u001b[39m\n\u001b[0;32m-> 1325\u001b[0m     \u001b[38;5;28;01mraise\u001b[39;00m \u001b[38;5;167;01mKeyboardInterrupt\u001b[39;00m(msg) \u001b[38;5;28;01mfrom\u001b[39;00m\u001b[38;5;250m \u001b[39m\u001b[38;5;28;01mNone\u001b[39;00m\n\u001b[1;32m   1326\u001b[0m \u001b[38;5;28;01mexcept\u001b[39;00m \u001b[38;5;167;01mException\u001b[39;00m:\n\u001b[1;32m   1327\u001b[0m     \u001b[38;5;28mself\u001b[39m\u001b[38;5;241m.\u001b[39mlog\u001b[38;5;241m.\u001b[39mwarning(\u001b[38;5;124m\"\u001b[39m\u001b[38;5;124mInvalid Message:\u001b[39m\u001b[38;5;124m\"\u001b[39m, exc_info\u001b[38;5;241m=\u001b[39m\u001b[38;5;28;01mTrue\u001b[39;00m)\n",
      "\u001b[0;31mKeyboardInterrupt\u001b[0m: Interrupted by user"
     ]
    }
   ],
   "source": [
    "# set logging level\n",
    "logging.basicConfig(level=logging.INFO)\n",
    "\n",
    "#load environment variables and make client\n",
    "dotenv.load_dotenv()\n",
    "client = schwabdev.Client(** dict([_ for _ in config.items() if _[0] in ['app_key', 'app_secret', 'callback_url']]))"
   ]
  },
  {
   "cell_type": "markdown",
   "id": "5cfc8e6c5d21383",
   "metadata": {},
   "source": [
    "# Basic API calls"
   ]
  },
  {
   "cell_type": "code",
   "execution_count": null,
   "id": "99904111f851f396",
   "metadata": {},
   "outputs": [],
   "source": [
    "# get account number and hashes for linked accounts\n",
    "linked_accounts = client.account_linked().json()\n",
    "print(linked_accounts)\n",
    "# select the first account to use for orders\n",
    "account_hash = linked_accounts[0].get('hashValue')"
   ]
  },
  {
   "cell_type": "code",
   "execution_count": null,
   "id": "7ee8091c36c0d066",
   "metadata": {},
   "outputs": [],
   "source": [
    "# get positions for selected account\n",
    "print(client.account_details(account_hash, fields=\"positions\").json())"
   ]
  },
  {
   "cell_type": "code",
   "execution_count": null,
   "id": "706a555f317f99ee",
   "metadata": {},
   "outputs": [],
   "source": [
    "# get a list of quotes\n",
    "print(client.quotes([\"AAPL\", \"AMD\"]).json())"
   ]
  },
  {
   "cell_type": "code",
   "execution_count": null,
   "id": "791f4d37b7a1cb5e",
   "metadata": {},
   "outputs": [],
   "source": [
    "# get an option chain\n",
    "print(client.option_expiration_chain(\"AAPL\").json())"
   ]
  },
  {
   "cell_type": "markdown",
   "id": "c7e3dc8274757630",
   "metadata": {},
   "source": [
    "# Order example"
   ]
  },
  {
   "cell_type": "code",
   "execution_count": null,
   "id": "12ce8ea103853c49",
   "metadata": {},
   "outputs": [],
   "source": [
    "# place an order for INTC at limit price $10.00\n",
    "order = {\"orderType\": \"LIMIT\", \n",
    "         \"session\": \"NORMAL\", \n",
    "         \"duration\": \"DAY\", \n",
    "         \"orderStrategyType\": \"SINGLE\", \n",
    "         \"price\": '10.00',\n",
    "         \"orderLegCollection\": [\n",
    "             {\"instruction\": \"BUY\", \n",
    "              \"quantity\": 1, \n",
    "              \"instrument\": \n",
    "                  {\"symbol\": \"INTC\", \n",
    "                   \"assetType\": \"EQUITY\"\n",
    "                   }\n",
    "              }\n",
    "         ]}\n",
    "resp = client.order_place(account_hash, order)\n",
    "print(f\"Response code: {resp}\") \n",
    "\n",
    "# get the order ID - if order is immediately filled then the id might not be returned\n",
    "order_id = resp.headers.get('location', '/').split('/')[-1] \n",
    "print(f\"Order id: {order_id}\")"
   ]
  },
  {
   "cell_type": "code",
   "execution_count": null,
   "id": "4f95a82378df8e73",
   "metadata": {
    "jupyter": {
     "is_executing": true
    }
   },
   "outputs": [],
   "source": [
    "# cancel the order\n",
    "print(client.order_cancel(account_hash, order_id))"
   ]
  },
  {
   "cell_type": "markdown",
   "id": "20bb6b09489bf1a9",
   "metadata": {},
   "source": [
    "# Streaming example"
   ]
  },
  {
   "cell_type": "code",
   "execution_count": null,
   "id": "96d8a48e39b05465",
   "metadata": {},
   "outputs": [],
   "source": [
    "# create streamer\n",
    "streamer = client.stream"
   ]
  },
  {
   "cell_type": "code",
   "execution_count": null,
   "id": "9449da0e5ab23a6b",
   "metadata": {},
   "outputs": [],
   "source": [
    "# create a list to store responses\n",
    "responses = []\n",
    "def add_to_list(message):\n",
    "    responses.append(message)"
   ]
  },
  {
   "cell_type": "code",
   "execution_count": null,
   "id": "7cdeaaa69efb6f3f",
   "metadata": {},
   "outputs": [],
   "source": [
    "#start stream and send request\n",
    "streamer.start(add_to_list)\n",
    "streamer.send_async(streamer.level_one_equities(\"AMD\", \"0,1,2,3,4,5,6,7,8\"))"
   ]
  },
  {
   "cell_type": "code",
   "execution_count": null,
   "id": "4241513b2fbf9f6e",
   "metadata": {},
   "outputs": [],
   "source": [
    "#check responses\n",
    "print(responses)"
   ]
  },
  {
   "cell_type": "code",
   "execution_count": null,
   "id": "cb5789c2248b6b54",
   "metadata": {},
   "outputs": [],
   "source": [
    "#stop stream\n",
    "streamer.stop()"
   ]
  }
 ],
 "metadata": {
  "kernelspec": {
   "display_name": "Python [conda env:findatdev00]",
   "language": "python",
   "name": "conda-env-findatdev00-py"
  },
  "language_info": {
   "codemirror_mode": {
    "name": "ipython",
    "version": 3
   },
   "file_extension": ".py",
   "mimetype": "text/x-python",
   "name": "python",
   "nbconvert_exporter": "python",
   "pygments_lexer": "ipython3",
   "version": "3.13.1"
  }
 },
 "nbformat": 4,
 "nbformat_minor": 5
}
